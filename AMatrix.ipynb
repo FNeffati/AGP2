{
 "cells": [
  {
   "cell_type": "code",
   "execution_count": 58,
   "metadata": {},
   "outputs": [],
   "source": [
    "import pandas as pd\n",
    "import numpy as np\n"
   ]
  },
  {
   "cell_type": "code",
   "execution_count": 59,
   "metadata": {},
   "outputs": [
    {
     "name": "stdout",
     "output_type": "stream",
     "text": [
      "      Unnamed: 0 Airline  Airline ID Source Airport  Source Airport ID  \\\n",
      "0           1038      4M        3201            JFK               3797   \n",
      "1           1080      4O       17885            JFK               3797   \n",
      "2           3620      9E        3976            JFK               3797   \n",
      "3           3623      9E        3976            LGA               3697   \n",
      "4           4791      AA          24            CLT               3876   \n",
      "...          ...     ...         ...            ...                ...   \n",
      "1306      105822      WS        5416            LGA               3697   \n",
      "1307      105823      WS        5416            LGA               3697   \n",
      "1308      105824      WS        5416            LGA               3697   \n",
      "1309      105825      WS        5416            LGA               3697   \n",
      "1310      105826      WS        5416            LGA               3697   \n",
      "\n",
      "     Destination Airport  Destination Airport ID Equipment  \\\n",
      "0                    EZE                    3988       777   \n",
      "1                    MEX                    1824       320   \n",
      "2                    MSY                    3861       CR9   \n",
      "3                    MSY                    3861       CR9   \n",
      "4                    SFO                    3469       321   \n",
      "...                  ...                     ...       ...   \n",
      "1306                 MSY                    3861       CR9   \n",
      "1307                 YUL                     146       ERJ   \n",
      "1308                 YUL                     146       CR7   \n",
      "1309                 YYZ                     193       736   \n",
      "1310                 YYZ                     193       73W   \n",
      "\n",
      "                                     Src Name   Src City  ... Dest ICAO  \\\n",
      "0        John F Kennedy International Airport   New York  ...      SAEZ   \n",
      "1        John F Kennedy International Airport   New York  ...      MMMX   \n",
      "2        John F Kennedy International Airport   New York  ...      KMSY   \n",
      "3                          La Guardia Airport   New York  ...      KMSY   \n",
      "4     Charlotte Douglas International Airport  Charlotte  ...      KSFO   \n",
      "...                                       ...        ...  ...       ...   \n",
      "1306                       La Guardia Airport   New York  ...      KMSY   \n",
      "1307                       La Guardia Airport   New York  ...      CYUL   \n",
      "1308                       La Guardia Airport   New York  ...      CYUL   \n",
      "1309                       La Guardia Airport   New York  ...      CYYZ   \n",
      "1310                       La Guardia Airport   New York  ...      CYYZ   \n",
      "\n",
      "     Dest Latitude  Dest Longitude  Dest Altitude  Dest Timezone  Dest DST  \\\n",
      "0       -34.822200      -58.535800           67.0           -3.0         N   \n",
      "1        19.436300      -99.072098         7316.0           -6.0         S   \n",
      "2        29.993401      -90.258003            4.0           -6.0         A   \n",
      "3        29.993401      -90.258003            4.0           -6.0         A   \n",
      "4        37.618999     -122.375000           13.0           -8.0         A   \n",
      "...            ...             ...            ...            ...       ...   \n",
      "1306     29.993401      -90.258003            4.0           -6.0         A   \n",
      "1307     45.470600      -73.740799          118.0           -5.0         A   \n",
      "1308     45.470600      -73.740799          118.0           -5.0         A   \n",
      "1309     43.677200      -79.630600          569.0           -5.0         A   \n",
      "1310     43.677200      -79.630600          569.0           -5.0         A   \n",
      "\n",
      "        Dest Timezone Name              Aircraft Name  Callsign  \\\n",
      "0     America/Buenos_Aires              LAN Argentina    LAN AR   \n",
      "1      America/Mexico_City  Interjet (ABC Aerolineas)  INTERJET   \n",
      "2          America/Chicago          Pinnacle Airlines  FLAGSHIP   \n",
      "3          America/Chicago          Pinnacle Airlines  FLAGSHIP   \n",
      "4      America/Los_Angeles          American Airlines  AMERICAN   \n",
      "...                    ...                        ...       ...   \n",
      "1306       America/Chicago                    WestJet   WESTJET   \n",
      "1307       America/Toronto                    WestJet   WESTJET   \n",
      "1308       America/Toronto                    WestJet   WESTJET   \n",
      "1309       America/Toronto                    WestJet   WESTJET   \n",
      "1310       America/Toronto                    WestJet   WESTJET   \n",
      "\n",
      "                        Carrier  \n",
      "0                    Boeing 777  \n",
      "1                   Airbus A320  \n",
      "2     Canadair Regional Jet 900  \n",
      "3     Canadair Regional Jet 900  \n",
      "4                   Airbus A321  \n",
      "...                         ...  \n",
      "1306  Canadair Regional Jet 900  \n",
      "1307                        NaN  \n",
      "1308  Canadair Regional Jet 700  \n",
      "1309             Boeing 737-600  \n",
      "1310                        NaN  \n",
      "\n",
      "[1311 rows x 31 columns]\n"
     ]
    }
   ],
   "source": [
    "file_path = \"df_possible_flights.csv\"\n",
    "df = pd.read_csv(file_path, sep=',')  # Replace ';' with your actual delimiter\n",
    "print(df)\n"
   ]
  },
  {
   "cell_type": "code",
   "execution_count": 60,
   "metadata": {},
   "outputs": [
    {
     "name": "stdout",
     "output_type": "stream",
     "text": [
      "     Source Airport Destination Airport\n",
      "0               JFK                 EZE\n",
      "1               JFK                 MEX\n",
      "2               JFK                 MSY\n",
      "3               LGA                 MSY\n",
      "4               CLT                 SFO\n",
      "...             ...                 ...\n",
      "1306            LGA                 MSY\n",
      "1307            LGA                 YUL\n",
      "1308            LGA                 YUL\n",
      "1309            LGA                 YYZ\n",
      "1310            LGA                 YYZ\n",
      "\n",
      "[1311 rows x 2 columns]\n"
     ]
    }
   ],
   "source": [
    "# Select two columns from the DataFrame\n",
    "cols = df[[\"Source Airport\", \"Destination Airport\"]]\n",
    "print(cols)"
   ]
  },
  {
   "cell_type": "code",
   "execution_count": 61,
   "metadata": {},
   "outputs": [],
   "source": [
    "data = cols.to_dict('records') #create a dictionary\n",
    "#print(data)"
   ]
  },
  {
   "cell_type": "code",
   "execution_count": 62,
   "metadata": {},
   "outputs": [],
   "source": [
    "airports = set() # get unique airport ids\n",
    "for row in data:\n",
    "    airports.add(row[\"Source Airport\"])\n",
    "    airports.add(row[\"Destination Airport\"])\n"
   ]
  },
  {
   "cell_type": "code",
   "execution_count": 63,
   "metadata": {},
   "outputs": [],
   "source": [
    "#airport mapping to indices\n",
    "airport_to_index = {airport: i for i, airport in enumerate(sorted(airports))}\n",
    "num_airports = len(airports)"
   ]
  },
  {
   "cell_type": "code",
   "execution_count": 64,
   "metadata": {},
   "outputs": [],
   "source": [
    "#initialize the matrix with 0s\n",
    "adjacency_matrix = [[0] * num_airports for _ in range(num_airports)]\n"
   ]
  },
  {
   "cell_type": "code",
   "execution_count": 65,
   "metadata": {},
   "outputs": [],
   "source": [
    "for row in data:\n",
    "    source_index = airport_to_index[row[\"Source Airport\"]]\n",
    "    destination_index = airport_to_index[row[\"Destination Airport\"]]\n",
    "    adjacency_matrix[source_index][destination_index] = 1  \n"
   ]
  },
  {
   "cell_type": "code",
   "execution_count": 66,
   "metadata": {},
   "outputs": [],
   "source": [
    "def print_matrix(matrix):\n",
    "    for row in matrix:\n",
    "        print(\" \".join(map(str, row)))\n",
    "#print_matrix(adjacency_matrix)\n"
   ]
  },
  {
   "cell_type": "code",
   "execution_count": 67,
   "metadata": {},
   "outputs": [],
   "source": [
    "adjacency_df = pd.DataFrame(adjacency_matrix)\n",
    "csv_file_path = \"adjacency_matrix.csv\""
   ]
  },
  {
   "cell_type": "code",
   "execution_count": 68,
   "metadata": {},
   "outputs": [
    {
     "name": "stdout",
     "output_type": "stream",
     "text": [
      "CSV file saved successfully.\n"
     ]
    }
   ],
   "source": [
    "df.to_csv(csv_file_path, index=True, header=True) \n",
    "print(\"CSV file saved successfully.\")\n"
   ]
  }
 ],
 "metadata": {
  "kernelspec": {
   "display_name": "base",
   "language": "python",
   "name": "python3"
  },
  "language_info": {
   "codemirror_mode": {
    "name": "ipython",
    "version": 3
   },
   "file_extension": ".py",
   "mimetype": "text/x-python",
   "name": "python",
   "nbconvert_exporter": "python",
   "pygments_lexer": "ipython3",
   "version": "3.11.4"
  }
 },
 "nbformat": 4,
 "nbformat_minor": 2
}
