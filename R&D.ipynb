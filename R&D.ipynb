{
 "cells": [
  {
   "cell_type": "markdown",
   "source": [
    "# Research and Development \n",
    "This file will contain the research and deveopement code as we're trying to address and solve the problem at hand. "
   ],
   "metadata": {
    "collapsed": false
   },
   "id": "e44c3a710ce83d2a"
  },
  {
   "cell_type": "code",
   "execution_count": 11,
   "id": "initial_id",
   "metadata": {
    "collapsed": true,
    "ExecuteTime": {
     "end_time": "2023-11-27T19:59:32.580997Z",
     "start_time": "2023-11-27T19:59:32.574279Z"
    }
   },
   "outputs": [],
   "source": [
    "import pandas as pd"
   ]
  },
  {
   "cell_type": "code",
   "execution_count": 14,
   "outputs": [],
   "source": [
    "file_path = 'adjacency_matrix.csv'"
   ],
   "metadata": {
    "collapsed": false,
    "ExecuteTime": {
     "end_time": "2023-11-27T19:59:41.587012Z",
     "start_time": "2023-11-27T19:59:41.584407Z"
    }
   },
   "id": "3a5679903a387d41"
  },
  {
   "cell_type": "markdown",
   "source": [
    "TODO: Try to set up the Adjacency Matrix with the Column and Row titles being the names of the Airports and the max Ammount of passangers being the weights  "
   ],
   "metadata": {
    "collapsed": false
   },
   "id": "8f2793f8bfc7e3f7"
  },
  {
   "cell_type": "code",
   "execution_count": 15,
   "outputs": [
    {
     "name": "stdout",
     "output_type": "stream",
     "text": [
      "Index(['ABQ', 'ACC', 'ACV', 'AKL', 'AMM', 'AMS', 'ANU', 'ARN', 'ATL', 'AUA',\n",
      "       ...\n",
      "       'XNA', 'YEG', 'YHZ', 'YOW', 'YUL', 'YVR', 'YYC', 'YYJ', 'YYZ', 'ZRH'],\n",
      "      dtype='object', length=232)\n"
     ]
    }
   ],
   "source": [
    "adj_matrix = pd.read_csv(file_path, index_col=0)\n",
    "\n",
    "# print(adj_matrix.columns)"
   ],
   "metadata": {
    "collapsed": false,
    "ExecuteTime": {
     "end_time": "2023-11-27T19:59:42.535426Z",
     "start_time": "2023-11-27T19:59:42.523825Z"
    }
   },
   "id": "effdda6de1bd6744"
  },
  {
   "cell_type": "code",
   "execution_count": null,
   "outputs": [],
   "source": [
    "def find_flights(start, destination):\n",
    "    # checking for a direct flight\n",
    "    direct_flight_capacity = adj_matrix.at[start, destination]\n",
    "\n",
    "    best_layover_capacity = 0\n",
    "    best_layover = None\n",
    "\n",
    "    # checking for 1-layover flights\n",
    "    for layover in adj_matrix.columns:\n",
    "        if layover != start and layover != destination:\n",
    "            capacity_to_layover = adj_matrix.at[start, layover]\n",
    "            capacity_from_layover = adj_matrix.at[layover, destination]\n",
    "\n",
    "            if capacity_to_layover > 0 and capacity_from_layover > 0:\n",
    "                layover_capacity = min(capacity_to_layover, capacity_from_layover)\n",
    "                if layover_capacity > best_layover_capacity:\n",
    "                    best_layover_capacity = layover_capacity\n",
    "                    best_layover = layover\n",
    "\n",
    "    # return the best option\n",
    "    if best_layover_capacity > direct_flight_capacity:\n",
    "        return f\"Best option is a 1-layover flight via {best_layover} with capacity {best_layover_capacity}\"\n",
    "    else:\n",
    "        return f\"Best option is a direct flight with capacity {direct_flight_capacity}\""
   ],
   "metadata": {
    "collapsed": false
   },
   "id": "298bba7d0e0805c5"
  },
  {
   "cell_type": "code",
   "execution_count": 17,
   "outputs": [
    {
     "name": "stdout",
     "output_type": "stream",
     "text": [
      "Best option is a direct flight with capacity 0\n"
     ]
    }
   ],
   "source": [
    "# testing with user input\n",
    "start_airport = input(\"Enter start airport: \")\n",
    "destination_airport = input(\"Enter destination airport: \")\n",
    "\n",
    "print(find_flights(start_airport, destination_airport))\n"
   ],
   "metadata": {
    "collapsed": false,
    "ExecuteTime": {
     "end_time": "2023-11-27T20:00:00.620998Z",
     "start_time": "2023-11-27T19:59:55.936979Z"
    }
   },
   "id": "c7a34e2d13da8e4f"
  },
  {
   "cell_type": "code",
   "execution_count": null,
   "outputs": [],
   "source": [],
   "metadata": {
    "collapsed": false,
    "ExecuteTime": {
     "end_time": "2023-11-27T19:11:49.588177Z",
     "start_time": "2023-11-27T19:11:49.587495Z"
    }
   },
   "id": "4370f239df8be811"
  }
 ],
 "metadata": {
  "kernelspec": {
   "display_name": "Python 3",
   "language": "python",
   "name": "python3"
  },
  "language_info": {
   "codemirror_mode": {
    "name": "ipython",
    "version": 2
   },
   "file_extension": ".py",
   "mimetype": "text/x-python",
   "name": "python",
   "nbconvert_exporter": "python",
   "pygments_lexer": "ipython2",
   "version": "2.7.6"
  }
 },
 "nbformat": 4,
 "nbformat_minor": 5
}
