{
 "cells": [
  {
   "cell_type": "markdown",
   "source": [
    "# Research and Development \n",
    "This file will contain the research and deveopement code as we're trying to address and solve the problem at hand. "
   ],
   "metadata": {
    "collapsed": false
   },
   "id": "e44c3a710ce83d2a"
  },
  {
   "cell_type": "code",
   "execution_count": 1,
   "id": "initial_id",
   "metadata": {
    "collapsed": true,
    "ExecuteTime": {
     "end_time": "2023-11-21T17:12:38.473505Z",
     "start_time": "2023-11-21T17:12:37.905918Z"
    }
   },
   "outputs": [],
   "source": [
    "import pandas as pd"
   ]
  },
  {
   "cell_type": "code",
   "execution_count": 2,
   "outputs": [],
   "source": [
    "file_path = 'df_possible_flights.csv'\n",
    "df = pd.read_csv(file_path)"
   ],
   "metadata": {
    "collapsed": false,
    "ExecuteTime": {
     "end_time": "2023-11-21T17:13:13.614122Z",
     "start_time": "2023-11-21T17:13:13.604424Z"
    }
   },
   "id": "3a5679903a387d41"
  },
  {
   "cell_type": "code",
   "execution_count": 3,
   "outputs": [],
   "source": [
    "# TODO: Try to set up the Adjacency Matrix with the Column and Row titles being the names of the Airports and the max Ammount of passangers being the weights  "
   ],
   "metadata": {
    "collapsed": false,
    "ExecuteTime": {
     "end_time": "2023-11-21T17:55:39.470404Z",
     "start_time": "2023-11-21T17:55:39.463453Z"
    }
   },
   "id": "3df6f45d3f895f98"
  },
  {
   "cell_type": "code",
   "execution_count": null,
   "outputs": [],
   "source": [],
   "metadata": {
    "collapsed": false
   },
   "id": "c7a34e2d13da8e4f"
  }
 ],
 "metadata": {
  "kernelspec": {
   "display_name": "Python 3",
   "language": "python",
   "name": "python3"
  },
  "language_info": {
   "codemirror_mode": {
    "name": "ipython",
    "version": 2
   },
   "file_extension": ".py",
   "mimetype": "text/x-python",
   "name": "python",
   "nbconvert_exporter": "python",
   "pygments_lexer": "ipython2",
   "version": "2.7.6"
  }
 },
 "nbformat": 4,
 "nbformat_minor": 5
}
