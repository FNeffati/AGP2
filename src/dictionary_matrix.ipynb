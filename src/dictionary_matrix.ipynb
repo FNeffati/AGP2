{
 "cells": [
  {
   "cell_type": "code",
   "execution_count": 2,
   "metadata": {},
   "outputs": [],
   "source": [
    "from collections import deque\n",
    "import numpy as np\n",
    "import pandas as pd\n",
    "from data_wrangling import df_possible_flights\n",
    "from pathlib import Path"
   ]
  },
  {
   "cell_type": "code",
   "execution_count": 3,
   "metadata": {},
   "outputs": [],
   "source": [
    "def distance_calc(lat1, lon1, lat2, lon2):\n",
    "    earth_radius = 6371.0\n",
    "\n",
    "    # Convert latitude and longitude from degrees to radians\n",
    "    lat1, lon1, lat2, lon2 = map(np.radians, [lat1, lon1, lat2, lon2])\n",
    "    \n",
    "    # Compute differences in coordinates\n",
    "    dlat = lat2 - lat1\n",
    "    dlon = lon2 - lon1\n",
    "    \n",
    "    # Haversine formula for distance calculation\n",
    "    a = np.sin(dlat/2)**2 + np.cos(lat1) * np.cos(lat2) * np.sin(dlon/2)**2\n",
    "    c = 2 * np.arcsin(np.sqrt(a))\n",
    "    \n",
    "    # Earth radius in kilometers\n",
    "    earth_radius = 6371.0\n",
    "    \n",
    "    # Calculate the distance\n",
    "    distance = earth_radius * c\n",
    "    \n",
    "    return np.round(distance, 2)"
   ]
  },
  {
   "cell_type": "code",
   "execution_count": 15,
   "metadata": {},
   "outputs": [],
   "source": [
    "def create_matrix(df, airports):\n",
    "    num_airports = len(airports)\n",
    "\n",
    "    # Create an adjacency matrix with dictionaries\n",
    "    adjacency_matrix = [[{\n",
    "        'distance': 0,\n",
    "        'flights': {},\n",
    "        'SrcTimezone': \"\",\n",
    "        'DestTimezone': \"\"\n",
    "    } for _ in range(num_airports)] for _ in range(num_airports)]\n",
    "\n",
    "    # Fill the adjacency matrix based on the flights\n",
    "    for index, row in df.iterrows():\n",
    "        source_index = airports.index(row[\"Source Airport\"])\n",
    "        dest_index = airports.index(row[\"Destination Airport\"])\n",
    "        lat1, lon1 = row[\"Src Latitude\"], row[\"Src Longitude\"]\n",
    "        lat2, lon2 = row[\"Dest Latitude\"], row[\"Dest Longitude\"]\n",
    "\n",
    "        distance = distance_calc(lat1, lon1, lat2, lon2)\n",
    "        \n",
    "        flight_info = {\n",
    "            'Carrier': row[\"Carrier\"],\n",
    "            'Capacity': row[\"Passengers\"]\n",
    "        }\n",
    "\n",
    "        adjacency_matrix[source_index][dest_index]['distance'] = distance\n",
    "        adjacency_matrix[source_index][dest_index]['flights'][row[\"Airline_Name\"]] = flight_info\n",
    "        # Set timezone info only if it hasn't been set yet\n",
    "        if not adjacency_matrix[source_index][dest_index]['SrcTimezone']:\n",
    "            adjacency_matrix[source_index][dest_index]['SrcTimezone'] = row[\"Src Timezone Name\"]\n",
    "        \n",
    "        if not adjacency_matrix[source_index][dest_index]['DestTimezone']:\n",
    "            adjacency_matrix[source_index][dest_index]['DestTimezone'] = row[\"Dest Timezone Name\"]\n",
    "\n",
    "    source = [airports.index('JFK'), airports.index('LGA')]\n",
    "    sink = [airports.index('SFO')]\n",
    "\n",
    "    return adjacency_matrix, source, sink\n"
   ]
  },
  {
   "cell_type": "code",
   "execution_count": 9,
   "metadata": {},
   "outputs": [],
   "source": [
    "def create_matrix(df, airports):\n",
    "    num_airports = len(airports)\n",
    "\n",
    "    # Create an adjacency matrix with dictionaries\n",
    "    adjacency_matrix = [[{'distance': 0, \n",
    "                          'Capacity': [], \n",
    "                          'Carrier': [],\n",
    "                          'Airline': [],\n",
    "                          'SrcTimezone':[],\n",
    "                          'DestTimezone': []} for _ in range(num_airports)] for _ in range(num_airports)]\n",
    "\n",
    "    # Fill the adjacency matrix based on the flights\n",
    "    for index, row in df.iterrows():\n",
    "        source_index = airports.index(row[\"Source Airport\"])\n",
    "        dest_index = airports.index(row[\"Destination Airport\"])\n",
    "        lat1, lon1 = row[\"Src Latitude\"], row[\"Src Longitude\"]\n",
    "        lat2, lon2 = row[\"Dest Latitude\"], row[\"Dest Longitude\"]\n",
    "\n",
    "        distance = distance_calc(lat1, lon1, lat2, lon2)\n",
    "        adjacency_matrix[source_index][dest_index]['distance'] = distance\n",
    "        adjacency_matrix[source_index][dest_index]['Capacity'].append(row[\"Passengers\"])\n",
    "        adjacency_matrix[source_index][dest_index]['Carrier'].append(row[\"Carrier\"])\n",
    "        adjacency_matrix[source_index][dest_index]['Airline'].append(row[\"Airline_Name\"])\n",
    "        adjacency_matrix[source_index][dest_index]['SrcTimezone'].append(row[\"Src Timezone Name\"])\n",
    "        adjacency_matrix[source_index][dest_index]['DestTimezone'].append(row[\"Dest Timezone Name\"])\n",
    "\n",
    "    source = [airports.index('JFK'), airports.index('LGA')]\n",
    "    sink = [airports.index('SFO')]\n",
    "\n",
    "    return adjacency_matrix, source, sink"
   ]
  },
  {
   "cell_type": "code",
   "execution_count": 16,
   "metadata": {},
   "outputs": [],
   "source": [
    "df = df_possible_flights\n",
    "airports = sorted(set(df[\"Source Airport\"]).union(set(df[\"Destination Airport\"])))\n",
    "adjacency_matrix, sources, sinks = create_matrix(df_possible_flights, airports)\n",
    "adjacency_df = pd.DataFrame(adjacency_matrix, columns=airports, index=airports)\n",
    "\n",
    "csv_file_path = \"/Users/yuhanburgess/Documents/GitHub/AGP2/csv_files/merged_matrix.csv\"\n",
    "adjacency_df.to_csv(csv_file_path, index=True, header=True) "
   ]
  }
 ],
 "metadata": {
  "kernelspec": {
   "display_name": "base",
   "language": "python",
   "name": "python3"
  },
  "language_info": {
   "codemirror_mode": {
    "name": "ipython",
    "version": 3
   },
   "file_extension": ".py",
   "mimetype": "text/x-python",
   "name": "python",
   "nbconvert_exporter": "python",
   "pygments_lexer": "ipython3",
   "version": "3.11.4"
  }
 },
 "nbformat": 4,
 "nbformat_minor": 2
}
