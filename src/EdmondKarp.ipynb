{
 "cells": [
  {
   "cell_type": "markdown",
   "metadata": {},
   "source": [
    "The following is simple idea of Ford-Fulkerson algorithm:\n",
    "\n",
    "Start with initial flow as 0.\n",
    "While there exists an augmenting path from the source to the sink:  \n",
    "Find an augmenting path using any path-finding algorithm, such as breadth-first search or depth-first search.\n",
    "Determine the amount of flow that can be sent along the augmenting path, which is the minimum residual capacity along the edges of the path.\n",
    "Increase the flow along the augmenting path by the determined amount.\n",
    "Return the maximum flow.\n",
    "\n",
    "We will want to use a breadth first search underlying algorithm (aka Edmonds-karp)\n",
    "\n",
    "FORD-FULKERSON.G; s; t\n",
    "\n",
    "for each edge (u,v) ele. G.E:\n",
    "    (u,v).f = 0\n",
    "while there exists a path p from s to t in the residual network Gf \n",
    "    cf(p) = min{cf (u,v) : (u,v) is in p}\n",
    "for each edge (u,v) in p\n",
    "   if (u,v) ele. E\n",
    "        (u,v).f = (u,v).f + cf(p)\n",
    "    else\n",
    "        (u,v).f = (u,v).f + cf(p)\n",
    "\n",
    "p = augmenting path\n",
    "s = source\n",
    "t = sink"
   ]
  },
  {
   "cell_type": "markdown",
   "metadata": {},
   "source": [
    "NOTES\n",
    "\n",
    "value of flow\n",
    "f = ∑v∈Vf (s,v) − ∑v∈Vf (v,s)\n",
    "\n",
    "using queues and deques will make algorithm run better"
   ]
  },
  {
   "cell_type": "code",
   "execution_count": 3,
   "metadata": {},
   "outputs": [
    {
     "ename": "IndentationError",
     "evalue": "expected an indented block after function definition on line 6 (3097623254.py, line 8)",
     "output_type": "error",
     "traceback": [
      "\u001b[0;36m  Cell \u001b[0;32mIn[3], line 8\u001b[0;36m\u001b[0m\n\u001b[0;31m    def agumented_path():\u001b[0m\n\u001b[0m    ^\u001b[0m\n\u001b[0;31mIndentationError\u001b[0m\u001b[0;31m:\u001b[0m expected an indented block after function definition on line 6\n"
     ]
    }
   ],
   "source": [
    "from collections import deque\n",
    "import numpy as np\n",
    "from AdjacencyMatrix import create_matrix\n",
    "from data_wrangling import df_possible_flights\n",
    "\n",
    "def residual_capacity(u,v):\n",
    "    return f[u][v] − f[v][u]\n",
    "\n",
    "def agumented_path():\n",
    "    # find minimum capcity of path\n",
    "    # add it going forward \n",
    "    flow[u][v] + min_capacity\n",
    "    # subtract from flow going backwards\n",
    "    flow[v][u] - min_capacity\n",
    "\n",
    "# Find an augmenting path using any path-finding algorithm, such as breadth-first search\n",
    "def bfs(graph, sources, terminals):\n",
    "    # Mark all vertices as not visited\n",
    "    visited = [False] * len(graph)\n",
    "\n",
    "    # Initialize the queue with source vertices\n",
    "    queue = deque(sources)\n",
    "\n",
    "    # Mark source vertices as visited\n",
    "    for source in sources:\n",
    "        visited[source] = True\n",
    "\n",
    "    # Initialize the parent dictionary to keep track of the BFS tree\n",
    "    for source in sources:\n",
    "        s = {source}\n",
    "\n",
    "    # allow for multiple source nodes to exist by going through graph for each source node until\n",
    "    # none exist\n",
    "    while queue:\n",
    "        # Dequeue a vertex from the front of the queue\n",
    "        u = queue.popleft()\n",
    "\n",
    "        # go through each node in the graph\n",
    "        for v in range(len(graph)):\n",
    "            \n",
    "            # if we have not already seen it then we will check it as visited\n",
    "            # record information on the preceeding node\n",
    "\n",
    "                if v == terminals:\n",
    "                    path = []\n",
    "                    while v is not None:\n",
    "                # if the node we are on is the same as the terminal then we want to create \n",
    "                # a path for that flight \n",
    "                # we can do this with the recorded information we saved about the preceeding node\n",
    "                # we will then return the path\n",
    "                # If the neighbor is one of the terminal nodes, reconstruct the path and return it\n",
    "                if v == terminals:\n",
    "                    path = []\n",
    "                    while v is not None:\n",
    "                        # Insert the current vertex at the beginning of the path\n",
    "                        path.insert(0, v)\n",
    "                    return path\n",
    "        \n",
    "    # if there is nothing left in our que then we can return none\n",
    "    return None            \n",
    "                \n",
    "df = df_possible_flights\n",
    "airports = sorted(set(df[\"Source Airport\"]).union(set(df[\"Destination Airport\"])))\n",
    "graph , sources, sinks = create_matrix(df_possible_flights,airports)\n",
    "bfs(graph, sources, sinks)\n",
    "# Start with initial flow as 0\n",
    "# Initialize flow to zero \n",
    "# graph refers to adjacency matrix\n",
    "flow = np.zeros_like(graph)\n"
   ]
  }
 ],
 "metadata": {
  "kernelspec": {
   "display_name": "base",
   "language": "python",
   "name": "python3"
  },
  "language_info": {
   "codemirror_mode": {
    "name": "ipython",
    "version": 3
   },
   "file_extension": ".py",
   "mimetype": "text/x-python",
   "name": "python",
   "nbconvert_exporter": "python",
   "pygments_lexer": "ipython3",
   "version": "3.11.4"
  }
 },
 "nbformat": 4,
 "nbformat_minor": 2
}
