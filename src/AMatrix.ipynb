{
 "cells": [
  {
   "cell_type": "code",
   "execution_count": 1,
   "metadata": {},
   "outputs": [],
   "source": [
    "import pandas as pd\n",
    "import numpy as np\n"
   ]
  },
  {
   "cell_type": "code",
   "execution_count": 3,
   "metadata": {},
   "outputs": [
    {
     "name": "stdout",
     "output_type": "stream",
     "text": [
      "      Unnamed: 0 Airline  Airline ID Source Airport  Source Airport ID  \\\n",
      "0           1038      4M        3201            JFK               3797   \n",
      "1           1080      4O       17885            JFK               3797   \n",
      "2           3620      9E        3976            JFK               3797   \n",
      "3           3623      9E        3976            LGA               3697   \n",
      "4           4791      AA          24            CLT               3876   \n",
      "...          ...     ...         ...            ...                ...   \n",
      "1153      105819      WS        5416            LGA               3697   \n",
      "1154      105821      WS        5416            LGA               3697   \n",
      "1155      105822      WS        5416            LGA               3697   \n",
      "1156      105824      WS        5416            LGA               3697   \n",
      "1157      105825      WS        5416            LGA               3697   \n",
      "\n",
      "     Destination Airport  Destination Airport ID Equipment  \\\n",
      "0                    EZE                    3988       777   \n",
      "1                    MEX                    1824       320   \n",
      "2                    MSY                    3861       CR9   \n",
      "3                    MSY                    3861       CR9   \n",
      "4                    SFO                    3469       321   \n",
      "...                  ...                     ...       ...   \n",
      "1153                 ATL                    3682       739   \n",
      "1154                 MSY                    3861       319   \n",
      "1155                 MSY                    3861       CR9   \n",
      "1156                 YUL                     146       CR7   \n",
      "1157                 YYZ                     193       736   \n",
      "\n",
      "                                     Src Name   Src City  ... Dest ICAO  \\\n",
      "0        John F Kennedy International Airport   New York  ...      SAEZ   \n",
      "1        John F Kennedy International Airport   New York  ...      MMMX   \n",
      "2        John F Kennedy International Airport   New York  ...      KMSY   \n",
      "3                          La Guardia Airport   New York  ...      KMSY   \n",
      "4     Charlotte Douglas International Airport  Charlotte  ...      KSFO   \n",
      "...                                       ...        ...  ...       ...   \n",
      "1153                       La Guardia Airport   New York  ...      KATL   \n",
      "1154                       La Guardia Airport   New York  ...      KMSY   \n",
      "1155                       La Guardia Airport   New York  ...      KMSY   \n",
      "1156                       La Guardia Airport   New York  ...      CYUL   \n",
      "1157                       La Guardia Airport   New York  ...      CYYZ   \n",
      "\n",
      "     Dest Latitude  Dest Longitude  Dest Altitude  Dest Timezone  Dest DST  \\\n",
      "0       -34.822200      -58.535800           67.0           -3.0         N   \n",
      "1        19.436300      -99.072098         7316.0           -6.0         S   \n",
      "2        29.993401      -90.258003            4.0           -6.0         A   \n",
      "3        29.993401      -90.258003            4.0           -6.0         A   \n",
      "4        37.618999     -122.375000           13.0           -8.0         A   \n",
      "...            ...             ...            ...            ...       ...   \n",
      "1153     33.636700      -84.428101         1026.0           -5.0         A   \n",
      "1154     29.993401      -90.258003            4.0           -6.0         A   \n",
      "1155     29.993401      -90.258003            4.0           -6.0         A   \n",
      "1156     45.470600      -73.740799          118.0           -5.0         A   \n",
      "1157     43.677200      -79.630600          569.0           -5.0         A   \n",
      "\n",
      "        Dest Timezone Name                    Carrier  Callsign  \\\n",
      "0     America/Buenos_Aires              LAN Argentina    LAN AR   \n",
      "1      America/Mexico_City  Interjet (ABC Aerolineas)  INTERJET   \n",
      "2          America/Chicago          Pinnacle Airlines  FLAGSHIP   \n",
      "3          America/Chicago          Pinnacle Airlines  FLAGSHIP   \n",
      "4      America/Los_Angeles          American Airlines  AMERICAN   \n",
      "...                    ...                        ...       ...   \n",
      "1153      America/New_York                    WestJet   WESTJET   \n",
      "1154       America/Chicago                    WestJet   WESTJET   \n",
      "1155       America/Chicago                    WestJet   WESTJET   \n",
      "1156       America/Toronto                    WestJet   WESTJET   \n",
      "1157       America/Toronto                    WestJet   WESTJET   \n",
      "\n",
      "                   Airline_Name  \n",
      "0                    Boeing 777  \n",
      "1                   Airbus A320  \n",
      "2     Canadair Regional Jet 900  \n",
      "3     Canadair Regional Jet 900  \n",
      "4                   Airbus A321  \n",
      "...                         ...  \n",
      "1153             Boeing 737-900  \n",
      "1154                Airbus A319  \n",
      "1155  Canadair Regional Jet 900  \n",
      "1156  Canadair Regional Jet 700  \n",
      "1157             Boeing 737-600  \n",
      "\n",
      "[1158 rows x 31 columns]\n"
     ]
    }
   ],
   "source": [
    "file_path = \"/Users/yuhanburgess/Documents/GitHub/AGP2/csv_files/df_possible_flights.csv\"\n",
    "df = pd.read_csv(file_path, sep=',')  # Replace ';' with your actual delimiter\n",
    "print(df)\n"
   ]
  },
  {
   "cell_type": "code",
   "execution_count": 4,
   "metadata": {},
   "outputs": [
    {
     "name": "stdout",
     "output_type": "stream",
     "text": [
      "     Source Airport Destination Airport\n",
      "0               JFK                 EZE\n",
      "1               JFK                 MEX\n",
      "2               JFK                 MSY\n",
      "3               LGA                 MSY\n",
      "4               CLT                 SFO\n",
      "...             ...                 ...\n",
      "1153            LGA                 ATL\n",
      "1154            LGA                 MSY\n",
      "1155            LGA                 MSY\n",
      "1156            LGA                 YUL\n",
      "1157            LGA                 YYZ\n",
      "\n",
      "[1158 rows x 2 columns]\n"
     ]
    }
   ],
   "source": [
    "# Select two columns from the DataFrame\n",
    "cols = df[[\"Source Airport\", \"Destination Airport\"]]\n",
    "print(cols)"
   ]
  },
  {
   "cell_type": "code",
   "execution_count": 5,
   "metadata": {},
   "outputs": [],
   "source": [
    "data = cols.to_dict('records') #create a dictionary\n",
    "#print(data)"
   ]
  },
  {
   "cell_type": "code",
   "execution_count": 7,
   "metadata": {},
   "outputs": [],
   "source": [
    "airports = set() # get unique airport ids\n",
    "for row in data:\n",
    "    airports.add(row[\"Source Airport\"])\n",
    "    airports.add(row[\"Destination Airport\"])\n",
    "    airports.add(row[\"Src Latitude\"])\n",
    "    airports.add(row[\"Src Longitude\"])\n",
    "    airports.add(row[\"Dest Latitude\"])\n",
    "    airports.add(row[\"Dest Longitude\"])\n"
   ]
  },
  {
   "cell_type": "code",
   "execution_count": 8,
   "metadata": {},
   "outputs": [],
   "source": [
    "#airport mapping to indices\n",
    "airport_to_index = {airport: i for i, airport in enumerate(sorted(airports))}\n",
    "num_airports = len(airports)"
   ]
  },
  {
   "cell_type": "code",
   "execution_count": 11,
   "metadata": {},
   "outputs": [],
   "source": [
    "#initialize the matrix with 0s\n",
    "adjacency_matrix = [[0] * num_airports for _ in range(num_airports)]"
   ]
  },
  {
   "cell_type": "code",
   "execution_count": 13,
   "metadata": {},
   "outputs": [],
   "source": [
    "def distanceCalculation(lat1,lon1, lat2, lon2):\n",
    "    earthRadius = 6371 #km\n",
    "\n",
    "    dlon = lon2 - lon1\n",
    "    dlat = lat2 - lat1\n",
    "    a = np.sin(dlat/2)**2+np.cos(lat1)*np.cos(lat2)*np.sin(dlon/2)**2\n",
    "    a = np.array([a])\n",
    "    c = 2 * np.arctan(np.sqrt(a),np.sqrt(1-a))\n",
    "    d = np.round(earthRadius * c,2)\n",
    "    return(d)"
   ]
  },
  {
   "cell_type": "code",
   "execution_count": 15,
   "metadata": {},
   "outputs": [
    {
     "ename": "KeyError",
     "evalue": "'Src Latitude'",
     "output_type": "error",
     "traceback": [
      "\u001b[0;31m---------------------------------------------------------------------------\u001b[0m",
      "\u001b[0;31mKeyError\u001b[0m                                  Traceback (most recent call last)",
      "\u001b[1;32m/Users/yuhanburgess/Documents/GitHub/AGP2/src/AMatrix.ipynb Cell 9\u001b[0m line \u001b[0;36m4\n\u001b[1;32m      <a href='vscode-notebook-cell:/Users/yuhanburgess/Documents/GitHub/AGP2/src/AMatrix.ipynb#X10sZmlsZQ%3D%3D?line=1'>2</a>\u001b[0m source_index \u001b[39m=\u001b[39m airport_to_index[row[\u001b[39m\"\u001b[39m\u001b[39mSource Airport\u001b[39m\u001b[39m\"\u001b[39m]]\n\u001b[1;32m      <a href='vscode-notebook-cell:/Users/yuhanburgess/Documents/GitHub/AGP2/src/AMatrix.ipynb#X10sZmlsZQ%3D%3D?line=2'>3</a>\u001b[0m destination_index \u001b[39m=\u001b[39m airport_to_index[row[\u001b[39m\"\u001b[39m\u001b[39mDestination Airport\u001b[39m\u001b[39m\"\u001b[39m]]\n\u001b[0;32m----> <a href='vscode-notebook-cell:/Users/yuhanburgess/Documents/GitHub/AGP2/src/AMatrix.ipynb#X10sZmlsZQ%3D%3D?line=3'>4</a>\u001b[0m lat1 \u001b[39m=\u001b[39m airport_to_index[row[\u001b[39m\"\u001b[39m\u001b[39mSrc Latitude\u001b[39m\u001b[39m\"\u001b[39m]]\n\u001b[1;32m      <a href='vscode-notebook-cell:/Users/yuhanburgess/Documents/GitHub/AGP2/src/AMatrix.ipynb#X10sZmlsZQ%3D%3D?line=4'>5</a>\u001b[0m lon1 \u001b[39m=\u001b[39m airport_to_index[row[\u001b[39m\"\u001b[39m\u001b[39mSrc Longitude\u001b[39m\u001b[39m\"\u001b[39m]]\n\u001b[1;32m      <a href='vscode-notebook-cell:/Users/yuhanburgess/Documents/GitHub/AGP2/src/AMatrix.ipynb#X10sZmlsZQ%3D%3D?line=5'>6</a>\u001b[0m lat2 \u001b[39m=\u001b[39m airport_to_index[row[\u001b[39m\"\u001b[39m\u001b[39mDest Latitude\u001b[39m\u001b[39m\"\u001b[39m]]\n",
      "\u001b[0;31mKeyError\u001b[0m: 'Src Latitude'"
     ]
    }
   ],
   "source": [
    "for row in data:\n",
    "    source_index = airport_to_index[row[\"Source Airport\"]]\n",
    "    destination_index = airport_to_index[row[\"Destination Airport\"]]\n",
    "    lat1 = airport_to_index[row[\"Src Latitude\"]]\n",
    "    lon1 = airport_to_index[row[\"Src Longitude\"]]\n",
    "    lat2 = airport_to_index[row[\"Dest Latitude\"]]\n",
    "    lon2 = airport_to_index[row[\"Dest Longitude\"]]\n",
    "    distance = distanceCalculation(lat1, lon1, lat2, lon2)\n",
    "    adjacency_matrix[source_index][destination_index] = distance"
   ]
  },
  {
   "cell_type": "code",
   "execution_count": 10,
   "metadata": {},
   "outputs": [],
   "source": [
    "def print_matrix(matrix, airport_ids):\n",
    "    header = [\"\"] + airport_ids  # Create the header row with empty cell for row names\n",
    "    print(\" \".join(header))\n",
    "    for i, row in enumerate(matrix):\n",
    "        row_str = [airport_ids[i]] + list(map(str, row))  # Add row name to the beginning of each row\n",
    "        print(\" \".join(row_str))"
   ]
  },
  {
   "cell_type": "code",
   "execution_count": 11,
   "metadata": {},
   "outputs": [],
   "source": [
    "airport_ids = sorted(airport_to_index, key=lambda airport: airport_to_index[airport]) #get list of airport ids"
   ]
  },
  {
   "cell_type": "code",
   "execution_count": 12,
   "metadata": {},
   "outputs": [],
   "source": [
    "#print_matrix(adjacency_matrix, airport_ids)\n",
    "\n",
    "adjacency_df = pd.DataFrame(adjacency_matrix, columns=airport_ids, index=airport_ids)\n",
    "\n"
   ]
  },
  {
   "cell_type": "code",
   "execution_count": 13,
   "metadata": {},
   "outputs": [],
   "source": [
    "csv_file_path = \"adjacency_matrix.csv\""
   ]
  },
  {
   "cell_type": "code",
   "execution_count": 14,
   "metadata": {},
   "outputs": [
    {
     "name": "stdout",
     "output_type": "stream",
     "text": [
      "CSV file saved successfully.\n"
     ]
    }
   ],
   "source": [
    "adjacency_df.to_csv(csv_file_path, index=True, header=True) \n",
    "print(\"CSV file saved successfully.\")\n"
   ]
  }
 ],
 "metadata": {
  "kernelspec": {
   "display_name": "base",
   "language": "python",
   "name": "python3"
  },
  "language_info": {
   "codemirror_mode": {
    "name": "ipython",
    "version": 3
   },
   "file_extension": ".py",
   "mimetype": "text/x-python",
   "name": "python",
   "nbconvert_exporter": "python",
   "pygments_lexer": "ipython3",
   "version": "3.11.4"
  }
 },
 "nbformat": 4,
 "nbformat_minor": 2
}
