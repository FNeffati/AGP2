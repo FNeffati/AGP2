{
 "cells": [
  {
   "cell_type": "code",
   "execution_count": 2,
   "metadata": {},
   "outputs": [],
   "source": [
    "from collections import deque\n",
    "import numpy as np\n",
    "import pandas as pd\n",
    "from data_wrangling import df_full\n",
    "from pathlib import Path\n"
   ]
  },
  {
   "cell_type": "code",
   "execution_count": 3,
   "metadata": {},
   "outputs": [],
   "source": [
    "def distance_calc(lat1, lon1, lat2, lon2):\n",
    "    earth_radius = 6371.0\n",
    "\n",
    "    # Convert latitude and longitude from degrees to radians\n",
    "    lat1, lon1, lat2, lon2 = map(np.radians, [lat1, lon1, lat2, lon2])\n",
    "    \n",
    "    # Compute differences in coordinates\n",
    "    dlat = lat2 - lat1\n",
    "    dlon = lon2 - lon1\n",
    "    \n",
    "    # Haversine formula for distance calculation\n",
    "    a = np.sin(dlat/2)**2 + np.cos(lat1) * np.cos(lat2) * np.sin(dlon/2)**2\n",
    "    c = 2 * np.arcsin(np.sqrt(a))\n",
    "    \n",
    "    # Earth radius in kilometers\n",
    "    earth_radius = 6371.0\n",
    "    \n",
    "    # Calculate the distance\n",
    "    distance = earth_radius * c\n",
    "    \n",
    "    return np.round(distance, 2)\n"
   ]
  },
  {
   "cell_type": "code",
   "execution_count": 4,
   "metadata": {},
   "outputs": [],
   "source": [
    "def create_matrix(df, airports):\n",
    "    num_airports = len(airports)\n",
    "\n",
    "    # Create an adjacency matrix with zeros\n",
    "    adjacency_matrix = np.zeros((num_airports, num_airports), dtype=float)\n",
    "\n",
    "    # Fill the adjacency matrix based on the flights\n",
    "    for index, row in df.iterrows():\n",
    "        source_index = airports.index(row[\"Source Airport\"])\n",
    "        dest_index = airports.index(row[\"Destination Airport\"])\n",
    "        lat1, lon1 = row[\"Src Latitude\"], row[\"Src Longitude\"]\n",
    "        lat2, lon2 = row[\"Dest Latitude\"], row[\"Dest Longitude\"]\n",
    "        \n",
    "        distance = distance_calc(lat1, lon1, lat2, lon2)\n",
    "        adjacency_matrix[source_index][dest_index] = distance\n",
    "\n",
    "    # source = [airports.index('JFK'), airports.index('LGA')]\n",
    "    # sink = [airports.index('SFO')]\n",
    "\n",
    "    return adjacency_matrix#, source, sink\n"
   ]
  },
  {
   "cell_type": "code",
   "execution_count": 6,
   "metadata": {},
   "outputs": [],
   "source": [
    "# df = df_full[df_full[\"Src City\"].str.contains(source) |\n",
    "#                                                 df_full[\"Dest City\"].str.contains(sink)]\n",
    "airports = sorted(set(df_full[\"Source Airport\"]).union(set(df_full[\"Destination Airport\"])))\n",
    "adjacency_matrix, sources, sinks = create_matrix(df_full, airports)\n",
    "\n",
    "adjacency_df = pd.DataFrame(adjacency_matrix, columns=airports, index=airports)\n",
    "\n",
    "# ford_fulkerson(adjacency_matrix, sources, sinks)\n",
    "\n",
    "csv_file_path = \"/Users/yuhanburgess/Documents/GitHub/AGP2/csv_files/distance_matrix.csv\"\n",
    "adjacency_df.to_csv(csv_file_path, index=True, header=True) \n",
    "\n"
   ]
  }
 ],
 "metadata": {
  "kernelspec": {
   "display_name": "base",
   "language": "python",
   "name": "python3"
  },
  "language_info": {
   "codemirror_mode": {
    "name": "ipython",
    "version": 3
   },
   "file_extension": ".py",
   "mimetype": "text/x-python",
   "name": "python",
   "nbconvert_exporter": "python",
   "pygments_lexer": "ipython3",
   "version": "3.11.4"
  }
 },
 "nbformat": 4,
 "nbformat_minor": 2
}
